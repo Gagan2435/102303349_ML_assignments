{
 "cells": [
  {
   "cell_type": "code",
   "execution_count": 2,
   "id": "303b72c6",
   "metadata": {},
   "outputs": [
    {
     "name": "stdout",
     "output_type": "stream",
     "text": [
      "Index(['CustomerID', 'Title', 'FirstName', 'MiddleName', 'LastName', 'Suffix',\n",
      "       'AddressLine1', 'AddressLine2', 'City', 'StateProvinceName',\n",
      "       'CountryRegionName', 'PostalCode', 'PhoneNumber', 'BirthDate',\n",
      "       'Education', 'Occupation', 'Gender', 'MaritalStatus', 'HomeOwnerFlag',\n",
      "       'NumberCarsOwned', 'NumberChildrenAtHome', 'TotalChildren',\n",
      "       'YearlyIncome', 'LastUpdated'],\n",
      "      dtype='object')\n"
     ]
    }
   ],
   "source": [
    "import pandas as pd\n",
    "\n",
    "df = pd.read_csv(\"AWCustomers.csv\")\n",
    "print(df.columns)\n"
   ]
  },
  {
   "cell_type": "markdown",
   "id": "7095ff96",
   "metadata": {},
   "source": [
    "Selected Attributes: Education, Occupation, Gender, MaritalStatus, HomeOwnerFlag, NumberCarsOwned, NumberChildrenAtHome, TotalChildren, YearlyIncome, Age (derived from BirthDate), CommuteDistance.\n",
    "\n",
    "Removed Attributes: CustomerID, Title, FirstName, MiddleName, LastName, Suffix, AddressLine1, AddressLine2, City, StateProvinceName, CountryRegionName, PostalCode, PhoneNumber, BirthDate, LastUpdated."
   ]
  },
  {
   "cell_type": "code",
   "execution_count": 8,
   "id": "30198eae",
   "metadata": {},
   "outputs": [
    {
     "name": "stdout",
     "output_type": "stream",
     "text": [
      "New DataFrame with selected attributes:\n",
      "         Education      Occupation Gender MaritalStatus  HomeOwnerFlag  \\\n",
      "0        Bachelors        Clerical      M             M              1   \n",
      "1  Partial College        Clerical      M             M              1   \n",
      "2        Bachelors        Clerical      F             S              0   \n",
      "3  Partial College  Skilled Manual      M             M              1   \n",
      "4  Partial College  Skilled Manual      M             S              1   \n",
      "\n",
      "   NumberCarsOwned  NumberChildrenAtHome  TotalChildren  YearlyIncome  \n",
      "0                3                     0              1         81916  \n",
      "1                2                     1              2         81076  \n",
      "2                3                     0              0         86387  \n",
      "3                2                     1              2         61481  \n",
      "4                1                     0              0         51804  \n"
     ]
    }
   ],
   "source": [
    "import pandas as pd\n",
    "\n",
    "\n",
    "df = pd.read_csv(\"AWCustomers.csv\")\n",
    "\n",
    "selected_features = [\n",
    "    'Education', 'Occupation', 'Gender', 'MaritalStatus',\n",
    "    'HomeOwnerFlag', 'NumberCarsOwned', 'NumberChildrenAtHome',\n",
    "    'TotalChildren', 'YearlyIncome'\n",
    "]\n",
    "\n",
    "\n",
    "df_new = df[selected_features].copy()\n",
    "\n",
    "\n",
    "print(\"New DataFrame with selected attributes:\")\n",
    "print(df_new.head())\n",
    "\n"
   ]
  },
  {
   "cell_type": "markdown",
   "id": "a4c7d6ca",
   "metadata": {},
   "source": [
    "Attribute\tType\tSub-Type Classification\n",
    "Education\tDiscrete\tOrdinal\n",
    "Occupation\tDiscrete\tNominal\n",
    "Gender\tDiscrete\tNominal\n",
    "MaritalStatus\tDiscrete\tNominal\n",
    "HomeOwnerFlag\tDiscrete\tBinary (Nominal)\n",
    "NumberCarsOwned\tDiscrete\tRatio\n",
    "NumberChildrenAtHome\tDiscrete\tRatio\n",
    "TotalChildren\tDiscrete\tRatio\n",
    "YearlyIncome\tContinuous\tRatio"
   ]
  },
  {
   "cell_type": "code",
   "execution_count": 10,
   "id": "4b8731d5",
   "metadata": {},
   "outputs": [],
   "source": [
    "fill_values = {}\n",
    "for col in df_new.columns:\n",
    "    if df_new[col].dtype == 'object':\n",
    "        fill_values[col] = df_new[col].mode()[0]\n",
    "    else:\n",
    "        fill_values[col] = df_new[col].median()\n",
    "\n",
    "df_new.fillna(fill_values, inplace=True)"
   ]
  },
  {
   "cell_type": "code",
   "execution_count": 11,
   "id": "ddad0e63",
   "metadata": {},
   "outputs": [
    {
     "name": "stdout",
     "output_type": "stream",
     "text": [
      "\n",
      "Missing values AFTER filling:\n",
      "Education               0\n",
      "Occupation              0\n",
      "Gender                  0\n",
      "MaritalStatus           0\n",
      "HomeOwnerFlag           0\n",
      "NumberCarsOwned         0\n",
      "NumberChildrenAtHome    0\n",
      "TotalChildren           0\n",
      "YearlyIncome            0\n",
      "dtype: int64\n"
     ]
    }
   ],
   "source": [
    "print(\"\\nMissing values AFTER filling:\")\n",
    "print(df_new.isnull().sum())\n"
   ]
  },
  {
   "cell_type": "code",
   "execution_count": 14,
   "id": "4ffbe348",
   "metadata": {},
   "outputs": [],
   "source": [
    "import numpy as np\n",
    "from sklearn.preprocessing import MinMaxScaler\n",
    "\n",
    "\n",
    "num_cols = df_new.select_dtypes(include=[np.number]).columns\n",
    "scaler = MinMaxScaler()\n",
    "df_new[num_cols] = scaler.fit_transform(df_new[num_cols])"
   ]
  },
  {
   "cell_type": "code",
   "execution_count": 15,
   "id": "5a75dcd4",
   "metadata": {},
   "outputs": [],
   "source": [
    "import pandas as pd\n",
    "import numpy as np\n",
    "from sklearn.preprocessing import KBinsDiscretizer\n",
    "binning = KBinsDiscretizer(n_bins=5, encode='ordinal', strategy='uniform')\n",
    "df_new['YearlyIncome_binned'] = binning.fit_transform(df_new[['YearlyIncome']])"
   ]
  },
  {
   "cell_type": "code",
   "execution_count": 18,
   "id": "190c593c",
   "metadata": {},
   "outputs": [],
   "source": [
    "\n",
    "import pandas as pd\n",
    "import numpy as np\n",
    "from sklearn.preprocessing import  StandardScaler\n",
    "\n",
    "std_scaler = StandardScaler()\n",
    "df_new[num_cols] = std_scaler.fit_transform(df_new[num_cols])"
   ]
  },
  {
   "cell_type": "code",
   "execution_count": 22,
   "id": "60d49676",
   "metadata": {},
   "outputs": [],
   "source": [
    "import pandas as pd\n",
    "import numpy as np\n",
    "from sklearn.preprocessing import OneHotEncoder\n",
    "cat_cols = df_new.select_dtypes(include=['object']).columns\n",
    "encoder = OneHotEncoder(sparse_output=False, drop='first')\n",
    "\n",
    "encoded = encoder.fit_transform(df_new[cat_cols])\n",
    "encoded_df = pd.DataFrame(encoded, columns=encoder.get_feature_names_out(cat_cols), index=df_new.index)\n",
    "\n"
   ]
  }
 ],
 "metadata": {
  "kernelspec": {
   "display_name": "Python 3",
   "language": "python",
   "name": "python3"
  },
  "language_info": {
   "codemirror_mode": {
    "name": "ipython",
    "version": 3
   },
   "file_extension": ".py",
   "mimetype": "text/x-python",
   "name": "python",
   "nbconvert_exporter": "python",
   "pygments_lexer": "ipython3",
   "version": "3.12.2"
  }
 },
 "nbformat": 4,
 "nbformat_minor": 5
}
