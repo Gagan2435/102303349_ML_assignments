{
  "cells": [
    {
      "cell_type": "markdown",
      "metadata": {
        "id": "rmsV3IXSdPuE"
      },
      "source": [
        "Assignment-1\n",
        "Q1: Questions on Basic NumPy Array\n",
        "(a) Reverse the NumPy array: arr = np.array([1, 2, 3, 6, 4, 5])\n"
      ]
    },
    {
      "cell_type": "code",
      "execution_count": 1,
      "metadata": {
        "colab": {
          "base_uri": "https://localhost:8080/"
        },
        "id": "LysHqijEdiw9",
        "outputId": "8442797a-30d5-4116-fd4a-22bbf429f71a"
      },
      "outputs": [
        {
          "name": "stdout",
          "output_type": "stream",
          "text": [
            "[5 4 6 3 2 1]\n"
          ]
        }
      ],
      "source": [
        "import numpy as np\n",
        "arr = np.array([1, 2, 3, 6, 4, 5])\n",
        "reversed_arr = arr[::-1]\n",
        "print(reversed_arr)\n"
      ]
    },
    {
      "cell_type": "markdown",
      "metadata": {
        "id": "EdC6OU4jeE5B"
      },
      "source": [
        "(b) Flatten the NumPy arr: array1 = np.array([[1, 2, 3], [2, 4, 5], [1, 2, 3]]) using any two\n",
        "NumPy in-built methods"
      ]
    },
    {
      "cell_type": "code",
      "execution_count": 2,
      "metadata": {
        "colab": {
          "base_uri": "https://localhost:8080/"
        },
        "id": "x8-7c7Y8eI0c",
        "outputId": "c26532b3-8beb-498c-9739-5929512beac2"
      },
      "outputs": [
        {
          "name": "stdout",
          "output_type": "stream",
          "text": [
            "[1 2 3 2 4 5 1 2 3]\n",
            "[1 2 3 2 4 5 1 2 3]\n"
          ]
        }
      ],
      "source": [
        "array1 = np.array([[1, 2, 3], [2, 4, 5], [1, 2, 3]])\n",
        "\n",
        "# Method 1\n",
        "flatten1 = array1.flatten()\n",
        "\n",
        "# Method 2\n",
        "flatten2 = array1.ravel()\n",
        "\n",
        "print(flatten1)\n",
        "print(flatten2)\n"
      ]
    },
    {
      "cell_type": "markdown",
      "metadata": {
        "id": "4aCJhKnyeM-N"
      },
      "source": [
        "(c) Compare the following numpy arrays:\n",
        "arr1 = np.array([[1, 2], [3, 4]])\n",
        "arr2 = np.array([[1, 2], [3, 4]])"
      ]
    },
    {
      "cell_type": "code",
      "execution_count": 3,
      "metadata": {
        "colab": {
          "base_uri": "https://localhost:8080/"
        },
        "id": "nRxUbhWvePd_",
        "outputId": "871d41b6-ffe4-4b52-8cba-504ef5bd6582"
      },
      "outputs": [
        {
          "name": "stdout",
          "output_type": "stream",
          "text": [
            "Arrays are equal: True\n"
          ]
        }
      ],
      "source": [
        "arr1 = np.array([[1, 2], [3, 4]])\n",
        "arr2 = np.array([[1, 2], [3, 4]])\n",
        "\n",
        "comparison = np.array_equal(arr1, arr2)\n",
        "print(\"Arrays are equal:\", comparison)\n"
      ]
    },
    {
      "cell_type": "markdown",
      "metadata": {
        "id": "LdaUyAwHeY7P"
      },
      "source": [
        "(d) Find the most frequent value and their indice(s) in the following arrays:\n",
        "i.\n",
        "x = np.array([1,2,3,4,5,1,2,1,1,1])\n",
        "ii.\n",
        "y = np.array([1, 1, 1, 2, 3, 4, 2, 4, 3, 3, ])"
      ]
    },
    {
      "cell_type": "code",
      "execution_count": 4,
      "metadata": {
        "colab": {
          "base_uri": "https://localhost:8080/"
        },
        "id": "JuK2Z67HeaWd",
        "outputId": "d87ffc8e-8cc6-4c8c-c07d-d102f970dd50"
      },
      "outputs": [
        {
          "name": "stdout",
          "output_type": "stream",
          "text": [
            "Most frequent in x: 1 Indices: (array([0, 5, 7, 8, 9]),)\n",
            "Most frequent in y: 1 Indices: (array([0, 1, 2]),)\n"
          ]
        }
      ],
      "source": [
        "# i.\n",
        "x = np.array([1, 2, 3, 4, 5, 1, 2, 1, 1, 1])\n",
        "most_freq_val = np.bincount(x).argmax()\n",
        "indices = np.where(x == most_freq_val)\n",
        "print(\"Most frequent in x:\", most_freq_val, \"Indices:\", indices)\n",
        "\n",
        "# ii.\n",
        "y = np.array([1, 1, 1, 2, 3, 4, 2, 4, 3, 3])\n",
        "most_freq_val_y = np.bincount(y).argmax()\n",
        "indices_y = np.where(y == most_freq_val_y)\n",
        "print(\"Most frequent in y:\", most_freq_val_y, \"Indices:\", indices_y)\n"
      ]
    },
    {
      "cell_type": "markdown",
      "metadata": {
        "id": "UbJfMaFDedFF"
      },
      "source": [
        "(e) For the array gfg = np.matrix('[4, 1, 9; 12, 3, 1; 4, 5, 6]'), find\n",
        "i.\n",
        "Sum of all elements\n",
        "ii.\n",
        "iii.\n",
        "Sum of all elements row-wise  \n",
        "Sum of all elements column-wise"
      ]
    },
    {
      "cell_type": "code",
      "execution_count": 5,
      "metadata": {
        "colab": {
          "base_uri": "https://localhost:8080/"
        },
        "id": "yj5HrKkIegOf",
        "outputId": "1b2b91ba-43e9-4611-a50b-f92bb9533610"
      },
      "outputs": [
        {
          "name": "stdout",
          "output_type": "stream",
          "text": [
            "Total: 45\n",
            "Row-wise sum: [[14]\n",
            " [16]\n",
            " [15]]\n",
            "Column-wise sum: [[20  9 16]]\n"
          ]
        }
      ],
      "source": [
        "gfg = np.matrix('[4, 1, 9; 12, 3, 1; 4, 5, 6]')\n",
        "\n",
        "total_sum = np.sum(gfg)\n",
        "row_sum = np.sum(gfg, axis=1)\n",
        "col_sum = np.sum(gfg, axis=0)\n",
        "\n",
        "print(\"Total:\", total_sum)\n",
        "print(\"Row-wise sum:\", row_sum)\n",
        "print(\"Column-wise sum:\", col_sum)\n"
      ]
    },
    {
      "cell_type": "markdown",
      "metadata": {
        "id": "dTKclEj5ejhH"
      },
      "source": [
        "(f) For the matrix: n_array = np.array([[55, 25, 15],[30, 44, 2],[11, 45, 77]]), find\n",
        "i.\n",
        "Sum of diagonal elements\n",
        "ii.\n",
        "iii.\n",
        "iv.\n",
        "v.\n",
        "Eigen values of matrix\n",
        "Eigen vectors of matrix\n",
        "Inverse of matrix\n",
        "Determinant of matrix"
      ]
    },
    {
      "cell_type": "code",
      "execution_count": 6,
      "metadata": {
        "colab": {
          "base_uri": "https://localhost:8080/"
        },
        "id": "HXOOh5vzel9N",
        "outputId": "ca6b5ad6-e183-453a-f4f2-01283474da67"
      },
      "outputs": [
        {
          "name": "stdout",
          "output_type": "stream",
          "text": [
            "Diagonal Sum: 176\n",
            "Eigenvalues: [98.16835147 28.097044   49.73460452]\n",
            "Eigenvectors:\n",
            " [[ 0.4574917   0.34637121 -0.15017693]\n",
            " [ 0.28447814 -0.72784061 -0.4852124 ]\n",
            " [ 0.84248058  0.59184038  0.8614034 ]]\n",
            "Inverse:\n",
            " [[ 0.02404141 -0.00911212 -0.00444671]\n",
            " [-0.01667882  0.02966905  0.0024785 ]\n",
            " [ 0.00631287 -0.01603732  0.01217379]]\n",
            "Determinant: 137180.0000000001\n"
          ]
        }
      ],
      "source": [
        "n_array = np.array([[55, 25, 15], [30, 44, 2], [11, 45, 77]])\n",
        "\n",
        "# i.\n",
        "diag_sum = np.trace(n_array)\n",
        "\n",
        "# ii–v.\n",
        "eig_vals, eig_vecs = np.linalg.eig(n_array)\n",
        "inverse = np.linalg.inv(n_array)\n",
        "det = np.linalg.det(n_array)\n",
        "\n",
        "print(\"Diagonal Sum:\", diag_sum)\n",
        "print(\"Eigenvalues:\", eig_vals)\n",
        "print(\"Eigenvectors:\\n\", eig_vecs)\n",
        "print(\"Inverse:\\n\", inverse)\n",
        "print(\"Determinant:\", det)\n"
      ]
    },
    {
      "cell_type": "markdown",
      "metadata": {
        "id": "7BUv1KWrepG7"
      },
      "source": [
        "(g) Multiply the following matrices and also find covariance between matrices using NumPy:\n",
        "i.\n",
        "p = [[1, 2], [2, 3]]\n",
        "q = [[4, 5], [6, 7]]\n",
        "ii.\n",
        "p = [[1, 2], [2, 3], [4, 5]]\n",
        "q = [[4, 5, 1], [6, 7, 2]]"
      ]
    },
    {
      "cell_type": "code",
      "execution_count": 9,
      "metadata": {
        "colab": {
          "base_uri": "https://localhost:8080/"
        },
        "id": "p_3mUcb-esDP",
        "outputId": "0f617157-a554-49e0-c67a-89d57a75beda"
      },
      "outputs": [
        {
          "name": "stdout",
          "output_type": "stream",
          "text": [
            "Matrix Product:\n",
            " [[16 19  5]\n",
            " [26 31  8]\n",
            " [46 55 14]]\n",
            "Covariance:\n",
            " [[2.16666667 0.23333333]\n",
            " [0.23333333 5.36666667]]\n"
          ]
        }
      ],
      "source": [
        "import numpy as np\n",
        "\n",
        "p2 = np.array([[1, 2], [2, 3], [4, 5]])\n",
        "q2 = np.array([[4, 5, 1], [6, 7, 2]])\n",
        "\n",
        "# Matrix multiplication\n",
        "product2 = np.dot(p2, q2)\n",
        "print(\"Matrix Product:\\n\", product2)\n",
        "\n",
        "# Flatten to 1D arrays for covariance\n",
        "p2_flat = p2.flatten()\n",
        "q2_flat = q2.flatten()\n",
        "\n",
        "# Now compute covariance\n",
        "cov2 = np.cov(p2_flat, q2_flat)\n",
        "print(\"Covariance:\\n\", cov2)\n"
      ]
    },
    {
      "cell_type": "markdown",
      "metadata": {
        "id": "3AZEjsjPe82e"
      },
      "source": [
        "(h) For the matrices: x = np.array([[2, 3, 4], [3, 2, 9]]); y = np.array([[1, 5, 0], [5, 10, 3]]),\n",
        "find inner, outer and cartesian product?"
      ]
    },
    {
      "cell_type": "code",
      "execution_count": 10,
      "metadata": {
        "colab": {
          "base_uri": "https://localhost:8080/"
        },
        "id": "KV8zeIURfQos",
        "outputId": "53365a15-f120-4f54-b2e9-37696179bd52"
      },
      "outputs": [
        {
          "name": "stdout",
          "output_type": "stream",
          "text": [
            "Inner:\n",
            " [[17 52]\n",
            " [13 62]]\n",
            "Outer:\n",
            " [[ 2 10  0 10 20  6]\n",
            " [ 3 15  0 15 30  9]\n",
            " [ 4 20  0 20 40 12]\n",
            " [ 3 15  0 15 30  9]\n",
            " [ 2 10  0 10 20  6]\n",
            " [ 9 45  0 45 90 27]]\n",
            "Cartesian:\n",
            " [[ 2  1]\n",
            " [ 2  5]\n",
            " [ 2  0]\n",
            " [ 2  5]\n",
            " [ 2 10]\n",
            " [ 2  3]\n",
            " [ 3  1]\n",
            " [ 3  5]\n",
            " [ 3  0]\n",
            " [ 3  5]\n",
            " [ 3 10]\n",
            " [ 3  3]\n",
            " [ 4  1]\n",
            " [ 4  5]\n",
            " [ 4  0]\n",
            " [ 4  5]\n",
            " [ 4 10]\n",
            " [ 4  3]\n",
            " [ 3  1]\n",
            " [ 3  5]\n",
            " [ 3  0]\n",
            " [ 3  5]\n",
            " [ 3 10]\n",
            " [ 3  3]\n",
            " [ 2  1]\n",
            " [ 2  5]\n",
            " [ 2  0]\n",
            " [ 2  5]\n",
            " [ 2 10]\n",
            " [ 2  3]\n",
            " [ 9  1]\n",
            " [ 9  5]\n",
            " [ 9  0]\n",
            " [ 9  5]\n",
            " [ 9 10]\n",
            " [ 9  3]]\n"
          ]
        }
      ],
      "source": [
        "x = np.array([[2, 3, 4], [3, 2, 9]])\n",
        "y = np.array([[1, 5, 0], [5, 10, 3]])\n",
        "\n",
        "print(\"Inner:\\n\", np.inner(x, y))\n",
        "print(\"Outer:\\n\", np.outer(x.flatten(), y.flatten()))\n",
        "\n",
        "# Cartesian Product\n",
        "a = x.flatten()\n",
        "b = y.flatten()\n",
        "cart = np.array(np.meshgrid(a, b)).T.reshape(-1, 2)\n",
        "print(\"Cartesian:\\n\", cart)\n"
      ]
    },
    {
      "cell_type": "markdown",
      "metadata": {
        "id": "ug7xTXANfTE0"
      },
      "source": [
        "Q2: Based on NumPy Mathematics and Statistics\n",
        "(a)\n",
        "For the array: array = np.array([[1, -2, 3],[-4, 5, -6]])\n",
        "i.\n",
        "ii.\n",
        "iii.\n",
        "Find element-wise absolute value\n",
        "Find the 25th, 50th, and 75th percentile of flattened array, for each column, for each\n",
        "row.\n",
        "Mean, Median and Standard Deviation of flattened array, of each column, and\n",
        "each row\n",
        "For the array: a = np.array([-1.8, -1.6, -0.5, 0.5,1.6, 1.8, 3.0]). Find floor, ceiling\n",
        "and truncated value, rounded values"
      ]
    },
    {
      "cell_type": "code",
      "execution_count": 11,
      "metadata": {
        "colab": {
          "base_uri": "https://localhost:8080/"
        },
        "id": "wwTAnLvJfVcJ",
        "outputId": "82990277-b085-4791-b3cc-43273db1e085"
      },
      "outputs": [
        {
          "name": "stdout",
          "output_type": "stream",
          "text": [
            "Absolute:\n",
            " [[1 2 3]\n",
            " [4 5 6]]\n",
            "25,50,75% (flat): [-3.5 -0.5  2.5]\n",
            "Mean(flat): -0.5\n",
            "Median(flat): -0.5\n",
            "Std(flat): 3.8622100754188224\n"
          ]
        }
      ],
      "source": [
        "array = np.array([[1, -2, 3], [-4, 5, -6]])\n",
        "print(\"Absolute:\\n\", np.abs(array))\n",
        "\n",
        "flat = array.flatten()\n",
        "print(\"25,50,75% (flat):\", np.percentile(flat, [25, 50, 75]))\n",
        "print(\"Mean(flat):\", np.mean(flat))\n",
        "print(\"Median(flat):\", np.median(flat))\n",
        "print(\"Std(flat):\", np.std(flat))\n"
      ]
    },
    {
      "cell_type": "markdown",
      "metadata": {
        "id": "ib7OrJ84fpq4"
      },
      "source": [
        "For the array: a = np.array([-1.8, -1.6, -0.5, 0.5,1.6, 1.8, 3.0]). Find floor, ceiling\n",
        "and truncated value, rounded values"
      ]
    },
    {
      "cell_type": "code",
      "execution_count": 12,
      "metadata": {
        "colab": {
          "base_uri": "https://localhost:8080/"
        },
        "id": "xPn6c3xgfqvc",
        "outputId": "2e08cfc8-b7d0-4e35-9ada-aad9a8baad76"
      },
      "outputs": [
        {
          "name": "stdout",
          "output_type": "stream",
          "text": [
            "Floor: [-2. -2. -1.  0.  1.  1.  3.]\n",
            "Ceil: [-1. -1. -0.  1.  2.  2.  3.]\n",
            "Trunc: [-1. -1. -0.  0.  1.  1.  3.]\n",
            "Round: [-2. -2. -0.  0.  2.  2.  3.]\n"
          ]
        }
      ],
      "source": [
        "a = np.array([-1.8, -1.6, -0.5, 0.5,1.6, 1.8, 3.0])\n",
        "print(\"Floor:\", np.floor(a))\n",
        "print(\"Ceil:\", np.ceil(a))\n",
        "print(\"Trunc:\", np.trunc(a))\n",
        "print(\"Round:\", np.round(a))\n"
      ]
    },
    {
      "cell_type": "markdown",
      "metadata": {
        "id": "kr4T0gpjfwGX"
      },
      "source": [
        "Q3: Based on Searching and Sorting\n",
        "(a) For the array: array = np.array([10, 52, 62, 16, 16, 54, 453]), find\n",
        "i.\n",
        "Sorted array\n",
        "ii.\n",
        "iii.\n",
        "iv.\n",
        "Indices of sorted array\n",
        "4 smallest elements\n",
        "5 largest elements"
      ]
    },
    {
      "cell_type": "code",
      "execution_count": 13,
      "metadata": {
        "colab": {
          "base_uri": "https://localhost:8080/"
        },
        "id": "IW7KfQLnf0nW",
        "outputId": "5773b3ad-1de4-4094-a466-60920daba7a9"
      },
      "outputs": [
        {
          "name": "stdout",
          "output_type": "stream",
          "text": [
            "Sorted: [ 10  16  16  52  54  62 453]\n",
            "Sorted Index: [0 3 4 1 5 2 6]\n",
            "4 Smallest: [10 16 16 52]\n",
            "5 Largest: [ 16  52  54  62 453]\n"
          ]
        }
      ],
      "source": [
        "arr = np.array([10, 52, 62, 16, 16, 54, 453])\n",
        "print(\"Sorted:\", np.sort(arr))\n",
        "print(\"Sorted Index:\", np.argsort(arr))\n",
        "print(\"4 Smallest:\", np.sort(arr)[:4])\n",
        "print(\"5 Largest:\", np.sort(arr)[-5:])\n"
      ]
    },
    {
      "cell_type": "markdown",
      "metadata": {
        "id": "yzkwdFp_f3Ui"
      },
      "source": [
        "(b) For the array: array = np.array([1.0, 1.2, 2.2, 2.0, 3.0, 2.0]), find\n",
        "i.\n",
        "Integer elements only\n",
        "ii.\n",
        "Float elements only"
      ]
    },
    {
      "cell_type": "code",
      "execution_count": 14,
      "metadata": {
        "colab": {
          "base_uri": "https://localhost:8080/"
        },
        "id": "ObHyI_nyf7vp",
        "outputId": "d0994fe6-86bd-45ae-af1c-f21976b6d338"
      },
      "outputs": [
        {
          "name": "stdout",
          "output_type": "stream",
          "text": [
            "Integers: [1. 2. 3. 2.]\n",
            "Floats: [1.2 2.2]\n"
          ]
        }
      ],
      "source": [
        "arr = np.array([1.0, 1.2, 2.2, 2.0, 3.0, 2.0])\n",
        "print(\"Integers:\", arr[arr == arr.astype(int)])\n",
        "print(\"Floats:\", arr[arr != arr.astype(int)])\n"
      ]
    }
  ],
  "metadata": {
    "colab": {
      "provenance": []
    },
    "kernelspec": {
      "display_name": "Python 3",
      "name": "python3"
    },
    "language_info": {
      "name": "python"
    }
  },
  "nbformat": 4,
  "nbformat_minor": 0
}
